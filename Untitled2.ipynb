{
 "cells": [
  {
   "cell_type": "code",
   "execution_count": 1,
   "id": "950e334e",
   "metadata": {},
   "outputs": [],
   "source": [
    "import pandas as pd\n",
    "\n",
    "def find_groups_with_value(df: pd.DataFrame, b_val: str)-> pd.DataFrame:\n",
    "    \n",
    "    \n",
    "    result = df.loc[df[\"b\"]== b_val, :]\n",
    "    \n",
    "    df1 = df.loc[df[\"a\"].isin(result[\"a\"]), :]\n",
    "    \n",
    "    return df1"
   ]
  },
  {
   "cell_type": "code",
   "execution_count": null,
   "id": "4664edb9",
   "metadata": {},
   "outputs": [],
   "source": [
    "Ask him a question. Ask him if he can provide a sample output for you"
   ]
  },
  {
   "cell_type": "code",
   "execution_count": null,
   "id": "1077b49d",
   "metadata": {},
   "outputs": [],
   "source": [
    "def filter_groups(df, b_val):\n",
    "    \n",
    "    grouped = df.groupby(\"a\")\n",
    "\n",
    "    \n",
    "    def filter_group(group):\n",
    "        \n",
    "        if target_property in group[property_column].values:\n",
    "            return group\n",
    "\n",
    "    \n",
    "    filtered_groups = grouped.apply(filter_group)\n",
    "\n",
    "    # Concatenate the filtered groups into a new DataFrame\n",
    "    filtered_df = pd.concat(filtered_groups.values, ignore_index=True)\n",
    "\n",
    "    return filtered_df"
   ]
  }
 ],
 "metadata": {
  "kernelspec": {
   "display_name": "Python 3 (ipykernel)",
   "language": "python",
   "name": "python3"
  },
  "language_info": {
   "codemirror_mode": {
    "name": "ipython",
    "version": 3
   },
   "file_extension": ".py",
   "mimetype": "text/x-python",
   "name": "python",
   "nbconvert_exporter": "python",
   "pygments_lexer": "ipython3",
   "version": "3.11.5"
  }
 },
 "nbformat": 4,
 "nbformat_minor": 5
}
